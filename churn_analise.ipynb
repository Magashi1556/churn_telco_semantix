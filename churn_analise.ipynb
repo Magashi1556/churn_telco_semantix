{
  "nbformat": 4,
  "nbformat_minor": 0,
  "metadata": {
    "colab": {
      "provenance": []
    },
    "kernelspec": {
      "name": "python3",
      "display_name": "Python 3"
    },
    "language_info": {
      "name": "python"
    }
  },
  "cells": [
    {
      "cell_type": "markdown",
      "source": [
        "**PRIMEIRA ETAPA**"
      ],
      "metadata": {
        "id": "VJ86-6QvIsyr"
      }
    },
    {
      "cell_type": "code",
      "source": [
        "#Instalando pyspark no colab\n",
        "!pip install pyspark"
      ],
      "metadata": {
        "colab": {
          "base_uri": "https://localhost:8080/"
        },
        "id": "RnWVy5CPIsRV",
        "outputId": "968c1e80-739a-4fc5-e501-e6ef1efde90a"
      },
      "execution_count": 1,
      "outputs": [
        {
          "output_type": "stream",
          "name": "stdout",
          "text": [
            "Requirement already satisfied: pyspark in /usr/local/lib/python3.11/dist-packages (3.5.1)\n",
            "Requirement already satisfied: py4j==0.10.9.7 in /usr/local/lib/python3.11/dist-packages (from pyspark) (0.10.9.7)\n"
          ]
        }
      ]
    },
    {
      "cell_type": "code",
      "execution_count": 2,
      "metadata": {
        "id": "zl1eLR40IrBx"
      },
      "outputs": [],
      "source": [
        "#Importando bibliotecas\n",
        "from pyspark.sql import SparkSession\n",
        "from pyspark.sql.functions import col, trim, sum"
      ]
    },
    {
      "cell_type": "code",
      "source": [
        "#Criando sessão spark\n",
        "spark = SparkSession.builder.getOrCreate()"
      ],
      "metadata": {
        "id": "84W9rOmLJE9D"
      },
      "execution_count": 3,
      "outputs": []
    },
    {
      "cell_type": "code",
      "source": [
        "#Montando Google Drive\n",
        "from google.colab import drive\n",
        "drive.mount('/content/drive')"
      ],
      "metadata": {
        "colab": {
          "base_uri": "https://localhost:8080/"
        },
        "id": "6mBNHPakJJuT",
        "outputId": "0104a626-43a4-4657-d8a1-11a4e45f2a8e"
      },
      "execution_count": 4,
      "outputs": [
        {
          "output_type": "stream",
          "name": "stdout",
          "text": [
            "Mounted at /content/drive\n"
          ]
        }
      ]
    },
    {
      "cell_type": "code",
      "source": [
        "#Carregando dataset\n",
        "df = spark.read.csv(\"/content/drive/MyDrive/Colab Notebooks/projetoChurn/Telco-Churn.csv\", header=True, inferSchema=True)"
      ],
      "metadata": {
        "id": "4gyV96n1JRMK"
      },
      "execution_count": 5,
      "outputs": []
    },
    {
      "cell_type": "code",
      "source": [
        "#visualizando Schema\n",
        "df.printSchema()"
      ],
      "metadata": {
        "colab": {
          "base_uri": "https://localhost:8080/"
        },
        "id": "VZYFNG06P2BL",
        "outputId": "34642333-bd59-4c8d-87c7-94c24d577a6b"
      },
      "execution_count": 21,
      "outputs": [
        {
          "output_type": "stream",
          "name": "stdout",
          "text": [
            "root\n",
            " |-- customerID: string (nullable = true)\n",
            " |-- gender: string (nullable = true)\n",
            " |-- SeniorCitizen: integer (nullable = true)\n",
            " |-- Partner: string (nullable = true)\n",
            " |-- Dependents: string (nullable = true)\n",
            " |-- tenure: integer (nullable = true)\n",
            " |-- PhoneService: string (nullable = true)\n",
            " |-- MultipleLines: string (nullable = true)\n",
            " |-- InternetService: string (nullable = true)\n",
            " |-- OnlineSecurity: string (nullable = true)\n",
            " |-- OnlineBackup: string (nullable = true)\n",
            " |-- DeviceProtection: string (nullable = true)\n",
            " |-- TechSupport: string (nullable = true)\n",
            " |-- StreamingTV: string (nullable = true)\n",
            " |-- StreamingMovies: string (nullable = true)\n",
            " |-- Contract: string (nullable = true)\n",
            " |-- PaperlessBilling: string (nullable = true)\n",
            " |-- PaymentMethod: string (nullable = true)\n",
            " |-- MonthlyCharges: double (nullable = true)\n",
            " |-- TotalCharges: float (nullable = false)\n",
            " |-- Churn: string (nullable = true)\n",
            "\n"
          ]
        }
      ]
    },
    {
      "cell_type": "code",
      "source": [
        "#Removendo espaços em branco e convertendo a coluna TotalCharges para númerico\n",
        "df = df.withColumn(\"TotalCharges\", trim(col(\"TotalCharges\")).cast(\"float\"))"
      ],
      "metadata": {
        "id": "t6nmDo_VTMoQ"
      },
      "execution_count": 7,
      "outputs": []
    },
    {
      "cell_type": "code",
      "source": [
        "#Conta nulos por coluna\n",
        "null_counts = df.select([sum(col(c).isNull().cast(\"int\")).alias(c) for c in df.columns])\n",
        "null_counts.show()"
      ],
      "metadata": {
        "colab": {
          "base_uri": "https://localhost:8080/"
        },
        "id": "nXydn1AGXZNK",
        "outputId": "476b5f64-3624-4168-acbe-6e9ac7faf3ab"
      },
      "execution_count": 8,
      "outputs": [
        {
          "output_type": "stream",
          "name": "stdout",
          "text": [
            "+----------+------+-------------+-------+----------+------+------------+-------------+---------------+--------------+------------+----------------+-----------+-----------+---------------+--------+----------------+-------------+--------------+------------+-----+\n",
            "|customerID|gender|SeniorCitizen|Partner|Dependents|tenure|PhoneService|MultipleLines|InternetService|OnlineSecurity|OnlineBackup|DeviceProtection|TechSupport|StreamingTV|StreamingMovies|Contract|PaperlessBilling|PaymentMethod|MonthlyCharges|TotalCharges|Churn|\n",
            "+----------+------+-------------+-------+----------+------+------------+-------------+---------------+--------------+------------+----------------+-----------+-----------+---------------+--------+----------------+-------------+--------------+------------+-----+\n",
            "|         0|     0|            0|      0|         0|     0|           0|            0|              0|             0|           0|               0|          0|          0|              0|       0|               0|            0|             0|          11|    0|\n",
            "+----------+------+-------------+-------+----------+------+------------+-------------+---------------+--------------+------------+----------------+-----------+-----------+---------------+--------+----------------+-------------+--------------+------------+-----+\n",
            "\n"
          ]
        }
      ]
    },
    {
      "cell_type": "code",
      "source": [
        "#Mudando valores nulos na coluna TotalCharges\n",
        "df = df.na.fill({\"TotalCharges\": 0})"
      ],
      "metadata": {
        "id": "QH5imkcPRX1o"
      },
      "execution_count": 9,
      "outputs": []
    },
    {
      "cell_type": "code",
      "source": [
        "#filtrando os valores modificados\n",
        "df.filter(df.TotalCharges == 0).select(\"tenure\", \"MonthlyCharges\", \"TotalCharges\").show()"
      ],
      "metadata": {
        "colab": {
          "base_uri": "https://localhost:8080/"
        },
        "id": "vtHz9a64R3gv",
        "outputId": "ba78b987-c306-459d-e984-6eaa25e331da"
      },
      "execution_count": 10,
      "outputs": [
        {
          "output_type": "stream",
          "name": "stdout",
          "text": [
            "+------+--------------+------------+\n",
            "|tenure|MonthlyCharges|TotalCharges|\n",
            "+------+--------------+------------+\n",
            "|     0|         52.55|         0.0|\n",
            "|     0|         20.25|         0.0|\n",
            "|     0|         80.85|         0.0|\n",
            "|     0|         25.75|         0.0|\n",
            "|     0|         56.05|         0.0|\n",
            "|     0|         19.85|         0.0|\n",
            "|     0|         25.35|         0.0|\n",
            "|     0|          20.0|         0.0|\n",
            "|     0|          19.7|         0.0|\n",
            "|     0|         73.35|         0.0|\n",
            "|     0|          61.9|         0.0|\n",
            "+------+--------------+------------+\n",
            "\n"
          ]
        }
      ]
    },
    {
      "cell_type": "code",
      "source": [
        "#Estatísticas descritivas\n",
        "df.describe().show()"
      ],
      "metadata": {
        "colab": {
          "base_uri": "https://localhost:8080/"
        },
        "id": "TnfqeGlhePd-",
        "outputId": "1b95a942-beab-4385-f535-a36630dfe242"
      },
      "execution_count": 11,
      "outputs": [
        {
          "output_type": "stream",
          "name": "stdout",
          "text": [
            "+-------+----------+------+------------------+-------+----------+------------------+------------+-------------+---------------+--------------+------------+----------------+-----------+-----------+---------------+--------------+----------------+--------------------+------------------+------------------+-----+\n",
            "|summary|customerID|gender|     SeniorCitizen|Partner|Dependents|            tenure|PhoneService|MultipleLines|InternetService|OnlineSecurity|OnlineBackup|DeviceProtection|TechSupport|StreamingTV|StreamingMovies|      Contract|PaperlessBilling|       PaymentMethod|    MonthlyCharges|      TotalCharges|Churn|\n",
            "+-------+----------+------+------------------+-------+----------+------------------+------------+-------------+---------------+--------------+------------+----------------+-----------+-----------+---------------+--------------+----------------+--------------------+------------------+------------------+-----+\n",
            "|  count|      7043|  7043|              7043|   7043|      7043|              7043|        7043|         7043|           7043|          7043|        7043|            7043|       7043|       7043|           7043|          7043|            7043|                7043|              7043|              7043| 7043|\n",
            "|   mean|      NULL|  NULL|0.1621468124378816|   NULL|      NULL| 32.37114865824223|        NULL|         NULL|           NULL|          NULL|        NULL|            NULL|       NULL|       NULL|           NULL|          NULL|            NULL|                NULL| 64.76169246059922|2279.7343041066433| NULL|\n",
            "| stddev|      NULL|  NULL|0.3686116056100135|   NULL|      NULL|24.559481023094442|        NULL|         NULL|           NULL|          NULL|        NULL|            NULL|       NULL|       NULL|           NULL|          NULL|            NULL|                NULL|30.090047097678482| 2266.794470912438| NULL|\n",
            "|    min|0002-ORFBO|Female|                 0|     No|        No|                 0|          No|           No|            DSL|            No|          No|              No|         No|         No|             No|Month-to-month|              No|Bank transfer (au...|             18.25|               0.0|   No|\n",
            "|    max|9995-HOTOH|  Male|                 1|    Yes|       Yes|                72|         Yes|          Yes|             No|           Yes|         Yes|             Yes|        Yes|        Yes|            Yes|      Two year|             Yes|        Mailed check|            118.75|            8684.8|  Yes|\n",
            "+-------+----------+------+------------------+-------+----------+------------------+------------+-------------+---------------+--------------+------------+----------------+-----------+-----------+---------------+--------------+----------------+--------------------+------------------+------------------+-----+\n",
            "\n"
          ]
        }
      ]
    },
    {
      "cell_type": "code",
      "source": [
        "#frequência de churn\n",
        "df.groupBy(\"Churn\").count().show()"
      ],
      "metadata": {
        "colab": {
          "base_uri": "https://localhost:8080/"
        },
        "id": "ksxpud4Yefxm",
        "outputId": "17e35abc-62f2-4534-9dd3-9af1f5b8bc23"
      },
      "execution_count": 12,
      "outputs": [
        {
          "output_type": "stream",
          "name": "stdout",
          "text": [
            "+-----+-----+\n",
            "|Churn|count|\n",
            "+-----+-----+\n",
            "|   No| 5174|\n",
            "|  Yes| 1869|\n",
            "+-----+-----+\n",
            "\n"
          ]
        }
      ]
    },
    {
      "cell_type": "code",
      "source": [
        "#Distribuição de contratos\n",
        "df.groupBy(\"Contract\").count().show()"
      ],
      "metadata": {
        "colab": {
          "base_uri": "https://localhost:8080/"
        },
        "id": "R-Q8lfL0esOu",
        "outputId": "91da07e8-5ab9-44c3-a718-f081f176a680"
      },
      "execution_count": 13,
      "outputs": [
        {
          "output_type": "stream",
          "name": "stdout",
          "text": [
            "+--------------+-----+\n",
            "|      Contract|count|\n",
            "+--------------+-----+\n",
            "|Month-to-month| 3875|\n",
            "|      One year| 1473|\n",
            "|      Two year| 1695|\n",
            "+--------------+-----+\n",
            "\n"
          ]
        }
      ]
    },
    {
      "cell_type": "code",
      "source": [
        "#fazendo correlaçoes em pyspark\n",
        "print(\"Corr(SeniorCitizen, tenure):\", df.corr('SeniorCitizen', 'tenure'))\n",
        "print(\"Corr(SeniorCitizen, MonthlyCharges):\", df.corr('SeniorCitizen', 'MonthlyCharges'))\n",
        "print(\"Corr(SeniorCitizen, TotalCharges):\", df.corr('SeniorCitizen', 'TotalCharges'))\n",
        "print(\"Corr(tenure, MonthlyCharges):\", df.corr('tenure', 'MonthlyCharges'))\n",
        "print(\"Corr(tenure, TotalCharges):\", df.corr('tenure', 'TotalCharges'))\n",
        "print(\"Corr(MonthlyCharges, TotalCharges):\", df.corr('MonthlyCharges', 'TotalCharges'))"
      ],
      "metadata": {
        "colab": {
          "base_uri": "https://localhost:8080/"
        },
        "id": "SDcTspv_hoAv",
        "outputId": "83b31a56-7aa2-4a8b-ee97-cd320366d61b"
      },
      "execution_count": 14,
      "outputs": [
        {
          "output_type": "stream",
          "name": "stdout",
          "text": [
            "Corr(SeniorCitizen, tenure): 0.016566877681809318\n",
            "Corr(SeniorCitizen, MonthlyCharges): 0.22017333857627205\n",
            "Corr(SeniorCitizen, TotalCharges): 0.10300618432182765\n",
            "Corr(tenure, MonthlyCharges): 0.24789985628615094\n",
            "Corr(tenure, TotalCharges): 0.8261783979021456\n",
            "Corr(MonthlyCharges, TotalCharges): 0.65117383153822\n"
          ]
        }
      ]
    },
    {
      "cell_type": "markdown",
      "source": [
        "**Interpretação dos seus dados:**\n",
        "Par de colunas\tCorrelação\tInterpretação\n",
        "\n",
        "tenure × TotalCharges\t0.82\tForte relação: quanto mais tempo o cliente está, maior o total pago. Óbvio e esperado.\n",
        "\n",
        "MonthlyCharges × TotalCharges\t0.65\tBoa relação: clientes que pagam mais por mês tendem a acumular mais no total.\n",
        "\n",
        "tenure × MonthlyCharges\t0.24\tFraca relação: o tempo não define o valor mensal.\n",
        "\n",
        "SeniorCitizen × outros\t0.01 a 0.22\tMuito fraca: idade (ou faixa etária) tem pouco impacto direto nos valores."
      ],
      "metadata": {
        "id": "ACwk_loBzltL"
      }
    },
    {
      "cell_type": "code",
      "source": [
        "#Modificando colunas para Int\n",
        "df_clean = df.select(\n",
        "    col(\"MonthlyCharges\").cast(\"float\"),\n",
        "    col(\"TotalCharges\").cast(\"float\")\n",
        ")"
      ],
      "metadata": {
        "id": "DVE9zWnjF7bD"
      },
      "execution_count": 20,
      "outputs": []
    },
    {
      "cell_type": "code",
      "source": [
        "#Filtrando fatura mensal > R$ 80 + Menos de 12 meses de contrato\n",
        "filtro = df.filter(\n",
        "    (col('Churn') == 'Yes') &\n",
        "    (col('MonthlyCharges') > 80) &\n",
        "    (col('tenure') < 12)\n",
        ")\n",
        "\n",
        "filtro.count()"
      ],
      "metadata": {
        "colab": {
          "base_uri": "https://localhost:8080/"
        },
        "id": "NCRBUhmEufKS",
        "outputId": "e4b62975-d763-468c-f2b2-ea97d0b0dda1"
      },
      "execution_count": 17,
      "outputs": [
        {
          "output_type": "execute_result",
          "data": {
            "text/plain": [
              "321"
            ]
          },
          "metadata": {},
          "execution_count": 17
        }
      ]
    },
    {
      "cell_type": "code",
      "source": [
        "#Filtrando churn por fibra e sem suporte tecnico\n",
        "df.filter((col('Churn') == 'Yes') & (col('InternetService') == 'Fiber optic')).count()\n",
        "df.filter((col('Churn') == 'Yes') & (col('TechSupport') == 'No')).count()"
      ],
      "metadata": {
        "colab": {
          "base_uri": "https://localhost:8080/"
        },
        "outputId": "1faf009a-2a27-4cbf-98fc-28103c0f8d00",
        "id": "2h39M2g7yO4k"
      },
      "execution_count": 18,
      "outputs": [
        {
          "output_type": "execute_result",
          "data": {
            "text/plain": [
              "1446"
            ]
          },
          "metadata": {},
          "execution_count": 18
        }
      ]
    },
    {
      "cell_type": "code",
      "source": [
        "#Passando para pandas\n",
        "import pandas as pd\n"
      ],
      "metadata": {
        "id": "uOpZCoklxM5j"
      },
      "execution_count": 22,
      "outputs": []
    },
    {
      "cell_type": "code",
      "source": [
        "#Exportando como csv no drive\n",
        "df_clean = df.toPandas()\n",
        "df_clean.to_csv('/content/drive/MyDrive/Colab Notebooks/projetoChurn/final_churn.csv', index=False)"
      ],
      "metadata": {
        "id": "DUPHRIwQgwZ7"
      },
      "execution_count": 23,
      "outputs": []
    },
    {
      "cell_type": "code",
      "source": [
        "spark.stop()"
      ],
      "metadata": {
        "id": "Dru0exuBj2C4"
      },
      "execution_count": 24,
      "outputs": []
    }
  ]
}